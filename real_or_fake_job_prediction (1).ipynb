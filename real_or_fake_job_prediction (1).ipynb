{
  "nbformat": 4,
  "nbformat_minor": 0,
  "metadata": {
    "kernelspec": {
      "language": "python",
      "display_name": "Python 3",
      "name": "python3"
    },
    "language_info": {
      "pygments_lexer": "ipython3",
      "nbconvert_exporter": "python",
      "version": "3.6.4",
      "file_extension": ".py",
      "codemirror_mode": {
        "name": "ipython",
        "version": 3
      },
      "name": "python",
      "mimetype": "text/x-python"
    },
    "colab": {
      "name": "real-or-fake-job-prediction.ipynb",
      "provenance": [],
      "collapsed_sections": []
    }
  },
  "cells": [
    {
      "cell_type": "code",
      "metadata": {
        "_uuid": "8f2839f25d086af736a60e9eeb907d3b93b6e0e5",
        "_cell_guid": "b1076dfc-b9ad-4769-8c92-a6c4dae69d19",
        "trusted": true,
        "id": "5wB13LTWYWQ_",
        "colab": {
          "base_uri": "https://localhost:8080/"
        },
        "outputId": "6159687b-e52b-4ce9-b7f1-d8233a11d478"
      },
      "source": [
        "import numpy as np # linear algebra\n",
        "import pandas as pd # data processing, CSV file I/O (e.g. pd.read_csv)\n",
        "import seaborn as sns\n",
        "import matplotlib.pyplot as plt\n",
        "%matplotlib inline\n",
        "import os\n",
        "from google.colab import drive\n",
        "from sklearn.model_selection import train_test_split\n",
        "from sklearn.metrics import confusion_matrix\n",
        "from sklearn import metrics\n",
        "from sklearn.metrics import classification_report\n",
        "from sklearn.preprocessing import LabelEncoder\n",
        "drive.mount('/content/drive')"
      ],
      "execution_count": null,
      "outputs": [
        {
          "output_type": "stream",
          "name": "stdout",
          "text": [
            "Mounted at /content/drive\n"
          ]
        }
      ]
    },
    {
      "cell_type": "code",
      "metadata": {
        "trusted": true,
        "id": "q3ShCZadYWRD"
      },
      "source": [
        "#set the common figure size\n",
        "plt.rcParams['figure.figsize']=(10,8)"
      ],
      "execution_count": null,
      "outputs": []
    },
    {
      "cell_type": "code",
      "metadata": {
        "id": "YUegGY2NaEaB"
      },
      "source": [
        "dataframe = pd.read_csv('/content/drive/MyDrive/fake_job_postings.csv')"
      ],
      "execution_count": null,
      "outputs": []
    },
    {
      "cell_type": "code",
      "metadata": {
        "id": "iG0iSjfGYFcV",
        "colab": {
          "base_uri": "https://localhost:8080/",
          "height": 504
        },
        "outputId": "51e379d3-763f-4819-f6a2-a5b00e046aa8"
      },
      "source": [
        "dataframe.head()"
      ],
      "execution_count": null,
      "outputs": [
        {
          "output_type": "execute_result",
          "data": {
            "text/html": [
              "<div>\n",
              "<style scoped>\n",
              "    .dataframe tbody tr th:only-of-type {\n",
              "        vertical-align: middle;\n",
              "    }\n",
              "\n",
              "    .dataframe tbody tr th {\n",
              "        vertical-align: top;\n",
              "    }\n",
              "\n",
              "    .dataframe thead th {\n",
              "        text-align: right;\n",
              "    }\n",
              "</style>\n",
              "<table border=\"1\" class=\"dataframe\">\n",
              "  <thead>\n",
              "    <tr style=\"text-align: right;\">\n",
              "      <th></th>\n",
              "      <th>job_id</th>\n",
              "      <th>title</th>\n",
              "      <th>location</th>\n",
              "      <th>department</th>\n",
              "      <th>salary_range</th>\n",
              "      <th>company_profile</th>\n",
              "      <th>description</th>\n",
              "      <th>requirements</th>\n",
              "      <th>benefits</th>\n",
              "      <th>telecommuting</th>\n",
              "      <th>has_company_logo</th>\n",
              "      <th>has_questions</th>\n",
              "      <th>employment_type</th>\n",
              "      <th>required_experience</th>\n",
              "      <th>required_education</th>\n",
              "      <th>industry</th>\n",
              "      <th>function</th>\n",
              "      <th>fraudulent</th>\n",
              "    </tr>\n",
              "  </thead>\n",
              "  <tbody>\n",
              "    <tr>\n",
              "      <th>0</th>\n",
              "      <td>1</td>\n",
              "      <td>Marketing Intern</td>\n",
              "      <td>US, NY, New York</td>\n",
              "      <td>Marketing</td>\n",
              "      <td>NaN</td>\n",
              "      <td>We're Food52, and we've created a groundbreaki...</td>\n",
              "      <td>Food52, a fast-growing, James Beard Award-winn...</td>\n",
              "      <td>Experience with content management systems a m...</td>\n",
              "      <td>NaN</td>\n",
              "      <td>0</td>\n",
              "      <td>1</td>\n",
              "      <td>0</td>\n",
              "      <td>Other</td>\n",
              "      <td>Internship</td>\n",
              "      <td>NaN</td>\n",
              "      <td>NaN</td>\n",
              "      <td>Marketing</td>\n",
              "      <td>0</td>\n",
              "    </tr>\n",
              "    <tr>\n",
              "      <th>1</th>\n",
              "      <td>2</td>\n",
              "      <td>Customer Service - Cloud Video Production</td>\n",
              "      <td>NZ, , Auckland</td>\n",
              "      <td>Success</td>\n",
              "      <td>NaN</td>\n",
              "      <td>90 Seconds, the worlds Cloud Video Production ...</td>\n",
              "      <td>Organised - Focused - Vibrant - Awesome!Do you...</td>\n",
              "      <td>What we expect from you:Your key responsibilit...</td>\n",
              "      <td>What you will get from usThrough being part of...</td>\n",
              "      <td>0</td>\n",
              "      <td>1</td>\n",
              "      <td>0</td>\n",
              "      <td>Full-time</td>\n",
              "      <td>Not Applicable</td>\n",
              "      <td>NaN</td>\n",
              "      <td>Marketing and Advertising</td>\n",
              "      <td>Customer Service</td>\n",
              "      <td>0</td>\n",
              "    </tr>\n",
              "    <tr>\n",
              "      <th>2</th>\n",
              "      <td>3</td>\n",
              "      <td>Commissioning Machinery Assistant (CMA)</td>\n",
              "      <td>US, IA, Wever</td>\n",
              "      <td>NaN</td>\n",
              "      <td>NaN</td>\n",
              "      <td>Valor Services provides Workforce Solutions th...</td>\n",
              "      <td>Our client, located in Houston, is actively se...</td>\n",
              "      <td>Implement pre-commissioning and commissioning ...</td>\n",
              "      <td>NaN</td>\n",
              "      <td>0</td>\n",
              "      <td>1</td>\n",
              "      <td>0</td>\n",
              "      <td>NaN</td>\n",
              "      <td>NaN</td>\n",
              "      <td>NaN</td>\n",
              "      <td>NaN</td>\n",
              "      <td>NaN</td>\n",
              "      <td>0</td>\n",
              "    </tr>\n",
              "    <tr>\n",
              "      <th>3</th>\n",
              "      <td>4</td>\n",
              "      <td>Account Executive - Washington DC</td>\n",
              "      <td>US, DC, Washington</td>\n",
              "      <td>Sales</td>\n",
              "      <td>NaN</td>\n",
              "      <td>Our passion for improving quality of life thro...</td>\n",
              "      <td>THE COMPANY: ESRI – Environmental Systems Rese...</td>\n",
              "      <td>EDUCATION: Bachelor’s or Master’s in GIS, busi...</td>\n",
              "      <td>Our culture is anything but corporate—we have ...</td>\n",
              "      <td>0</td>\n",
              "      <td>1</td>\n",
              "      <td>0</td>\n",
              "      <td>Full-time</td>\n",
              "      <td>Mid-Senior level</td>\n",
              "      <td>Bachelor's Degree</td>\n",
              "      <td>Computer Software</td>\n",
              "      <td>Sales</td>\n",
              "      <td>0</td>\n",
              "    </tr>\n",
              "    <tr>\n",
              "      <th>4</th>\n",
              "      <td>5</td>\n",
              "      <td>Bill Review Manager</td>\n",
              "      <td>US, FL, Fort Worth</td>\n",
              "      <td>NaN</td>\n",
              "      <td>NaN</td>\n",
              "      <td>SpotSource Solutions LLC is a Global Human Cap...</td>\n",
              "      <td>JOB TITLE: Itemization Review ManagerLOCATION:...</td>\n",
              "      <td>QUALIFICATIONS:RN license in the State of Texa...</td>\n",
              "      <td>Full Benefits Offered</td>\n",
              "      <td>0</td>\n",
              "      <td>1</td>\n",
              "      <td>1</td>\n",
              "      <td>Full-time</td>\n",
              "      <td>Mid-Senior level</td>\n",
              "      <td>Bachelor's Degree</td>\n",
              "      <td>Hospital &amp; Health Care</td>\n",
              "      <td>Health Care Provider</td>\n",
              "      <td>0</td>\n",
              "    </tr>\n",
              "  </tbody>\n",
              "</table>\n",
              "</div>"
            ],
            "text/plain": [
              "   job_id  ... fraudulent\n",
              "0       1  ...          0\n",
              "1       2  ...          0\n",
              "2       3  ...          0\n",
              "3       4  ...          0\n",
              "4       5  ...          0\n",
              "\n",
              "[5 rows x 18 columns]"
            ]
          },
          "metadata": {},
          "execution_count": 4
        }
      ]
    },
    {
      "cell_type": "code",
      "metadata": {
        "trusted": true,
        "id": "jF2fr5HOYWRE",
        "colab": {
          "base_uri": "https://localhost:8080/"
        },
        "outputId": "9f611150-f22e-4cac-e778-8aed6433e71b"
      },
      "source": [
        "dataframe.shape"
      ],
      "execution_count": null,
      "outputs": [
        {
          "output_type": "execute_result",
          "data": {
            "text/plain": [
              "(17880, 18)"
            ]
          },
          "metadata": {},
          "execution_count": 5
        }
      ]
    },
    {
      "cell_type": "code",
      "metadata": {
        "trusted": true,
        "id": "1i-EHYNeYWRE",
        "colab": {
          "base_uri": "https://localhost:8080/"
        },
        "outputId": "7f628b78-f689-4faa-cd6e-084285ada3f4"
      },
      "source": [
        "dataframe.info()"
      ],
      "execution_count": null,
      "outputs": [
        {
          "output_type": "stream",
          "name": "stdout",
          "text": [
            "<class 'pandas.core.frame.DataFrame'>\n",
            "RangeIndex: 17880 entries, 0 to 17879\n",
            "Data columns (total 18 columns):\n",
            " #   Column               Non-Null Count  Dtype \n",
            "---  ------               --------------  ----- \n",
            " 0   job_id               17880 non-null  int64 \n",
            " 1   title                17880 non-null  object\n",
            " 2   location             17534 non-null  object\n",
            " 3   department           6333 non-null   object\n",
            " 4   salary_range         2868 non-null   object\n",
            " 5   company_profile      14572 non-null  object\n",
            " 6   description          17879 non-null  object\n",
            " 7   requirements         15185 non-null  object\n",
            " 8   benefits             10670 non-null  object\n",
            " 9   telecommuting        17880 non-null  int64 \n",
            " 10  has_company_logo     17880 non-null  int64 \n",
            " 11  has_questions        17880 non-null  int64 \n",
            " 12  employment_type      14409 non-null  object\n",
            " 13  required_experience  10830 non-null  object\n",
            " 14  required_education   9775 non-null   object\n",
            " 15  industry             12977 non-null  object\n",
            " 16  function             11425 non-null  object\n",
            " 17  fraudulent           17880 non-null  int64 \n",
            "dtypes: int64(5), object(13)\n",
            "memory usage: 2.5+ MB\n"
          ]
        }
      ]
    },
    {
      "cell_type": "code",
      "metadata": {
        "trusted": true,
        "id": "EAp18LJ5YWRF",
        "colab": {
          "base_uri": "https://localhost:8080/",
          "height": 206
        },
        "outputId": "09b45ed3-78c8-4463-ec54-f04033e465a7"
      },
      "source": [
        "dataframe.describe().T"
      ],
      "execution_count": null,
      "outputs": [
        {
          "output_type": "execute_result",
          "data": {
            "text/html": [
              "<div>\n",
              "<style scoped>\n",
              "    .dataframe tbody tr th:only-of-type {\n",
              "        vertical-align: middle;\n",
              "    }\n",
              "\n",
              "    .dataframe tbody tr th {\n",
              "        vertical-align: top;\n",
              "    }\n",
              "\n",
              "    .dataframe thead th {\n",
              "        text-align: right;\n",
              "    }\n",
              "</style>\n",
              "<table border=\"1\" class=\"dataframe\">\n",
              "  <thead>\n",
              "    <tr style=\"text-align: right;\">\n",
              "      <th></th>\n",
              "      <th>count</th>\n",
              "      <th>mean</th>\n",
              "      <th>std</th>\n",
              "      <th>min</th>\n",
              "      <th>25%</th>\n",
              "      <th>50%</th>\n",
              "      <th>75%</th>\n",
              "      <th>max</th>\n",
              "    </tr>\n",
              "  </thead>\n",
              "  <tbody>\n",
              "    <tr>\n",
              "      <th>job_id</th>\n",
              "      <td>17880.0</td>\n",
              "      <td>8940.500000</td>\n",
              "      <td>5161.655742</td>\n",
              "      <td>1.0</td>\n",
              "      <td>4470.75</td>\n",
              "      <td>8940.5</td>\n",
              "      <td>13410.25</td>\n",
              "      <td>17880.0</td>\n",
              "    </tr>\n",
              "    <tr>\n",
              "      <th>telecommuting</th>\n",
              "      <td>17880.0</td>\n",
              "      <td>0.042897</td>\n",
              "      <td>0.202631</td>\n",
              "      <td>0.0</td>\n",
              "      <td>0.00</td>\n",
              "      <td>0.0</td>\n",
              "      <td>0.00</td>\n",
              "      <td>1.0</td>\n",
              "    </tr>\n",
              "    <tr>\n",
              "      <th>has_company_logo</th>\n",
              "      <td>17880.0</td>\n",
              "      <td>0.795302</td>\n",
              "      <td>0.403492</td>\n",
              "      <td>0.0</td>\n",
              "      <td>1.00</td>\n",
              "      <td>1.0</td>\n",
              "      <td>1.00</td>\n",
              "      <td>1.0</td>\n",
              "    </tr>\n",
              "    <tr>\n",
              "      <th>has_questions</th>\n",
              "      <td>17880.0</td>\n",
              "      <td>0.491723</td>\n",
              "      <td>0.499945</td>\n",
              "      <td>0.0</td>\n",
              "      <td>0.00</td>\n",
              "      <td>0.0</td>\n",
              "      <td>1.00</td>\n",
              "      <td>1.0</td>\n",
              "    </tr>\n",
              "    <tr>\n",
              "      <th>fraudulent</th>\n",
              "      <td>17880.0</td>\n",
              "      <td>0.048434</td>\n",
              "      <td>0.214688</td>\n",
              "      <td>0.0</td>\n",
              "      <td>0.00</td>\n",
              "      <td>0.0</td>\n",
              "      <td>0.00</td>\n",
              "      <td>1.0</td>\n",
              "    </tr>\n",
              "  </tbody>\n",
              "</table>\n",
              "</div>"
            ],
            "text/plain": [
              "                    count         mean          std  ...     50%       75%      max\n",
              "job_id            17880.0  8940.500000  5161.655742  ...  8940.5  13410.25  17880.0\n",
              "telecommuting     17880.0     0.042897     0.202631  ...     0.0      0.00      1.0\n",
              "has_company_logo  17880.0     0.795302     0.403492  ...     1.0      1.00      1.0\n",
              "has_questions     17880.0     0.491723     0.499945  ...     0.0      1.00      1.0\n",
              "fraudulent        17880.0     0.048434     0.214688  ...     0.0      0.00      1.0\n",
              "\n",
              "[5 rows x 8 columns]"
            ]
          },
          "metadata": {},
          "execution_count": 7
        }
      ]
    },
    {
      "cell_type": "code",
      "metadata": {
        "trusted": true,
        "id": "ox5q5sdEYWRF",
        "colab": {
          "base_uri": "https://localhost:8080/"
        },
        "outputId": "63a697a8-2912-46ad-d524-7fbde6c21a9e"
      },
      "source": [
        "dataframe.isnull().sum()"
      ],
      "execution_count": null,
      "outputs": [
        {
          "output_type": "execute_result",
          "data": {
            "text/plain": [
              "job_id                     0\n",
              "title                      0\n",
              "location                 346\n",
              "department             11547\n",
              "salary_range           15012\n",
              "company_profile         3308\n",
              "description                1\n",
              "requirements            2695\n",
              "benefits                7210\n",
              "telecommuting              0\n",
              "has_company_logo           0\n",
              "has_questions              0\n",
              "employment_type         3471\n",
              "required_experience     7050\n",
              "required_education      8105\n",
              "industry                4903\n",
              "function                6455\n",
              "fraudulent                 0\n",
              "dtype: int64"
            ]
          },
          "metadata": {},
          "execution_count": 8
        }
      ]
    },
    {
      "cell_type": "code",
      "metadata": {
        "trusted": true,
        "id": "65Y0w-HlYWRG",
        "colab": {
          "base_uri": "https://localhost:8080/"
        },
        "outputId": "a879a86d-7b2c-40cd-ed86-f57bf2de9281"
      },
      "source": [
        "#df['department'].isnull().sum()\n",
        "len(dataframe['department'])"
      ],
      "execution_count": null,
      "outputs": [
        {
          "output_type": "execute_result",
          "data": {
            "text/plain": [
              "17880"
            ]
          },
          "metadata": {},
          "execution_count": 9
        }
      ]
    },
    {
      "cell_type": "code",
      "metadata": {
        "trusted": true,
        "id": "Aw6619SsYWRH",
        "colab": {
          "base_uri": "https://localhost:8080/"
        },
        "outputId": "bf65aa87-f0c5-4a4d-d432-5612b7bdbd3f"
      },
      "source": [
        "#percentage of null values for each features\n",
        "for i in dataframe.columns.tolist():\n",
        "    if dataframe[i].isnull().sum()>0:\n",
        "        print('Feature',i,': {:.2f}%'.format(dataframe[i].isnull().sum()*100/len(dataframe[i])))"
      ],
      "execution_count": null,
      "outputs": [
        {
          "output_type": "stream",
          "name": "stdout",
          "text": [
            "Feature location : 1.94%\n",
            "Feature department : 64.58%\n",
            "Feature salary_range : 83.96%\n",
            "Feature company_profile : 18.50%\n",
            "Feature description : 0.01%\n",
            "Feature requirements : 15.07%\n",
            "Feature benefits : 40.32%\n",
            "Feature employment_type : 19.41%\n",
            "Feature required_experience : 39.43%\n",
            "Feature required_education : 45.33%\n",
            "Feature industry : 27.42%\n",
            "Feature function : 36.10%\n"
          ]
        }
      ]
    },
    {
      "cell_type": "code",
      "metadata": {
        "trusted": true,
        "id": "o2trKkqRYWRI",
        "colab": {
          "base_uri": "https://localhost:8080/"
        },
        "outputId": "5c53c38e-7814-491d-ebf1-7281e7b8d81d"
      },
      "source": [
        "dataframe['title'].value_counts()"
      ],
      "execution_count": null,
      "outputs": [
        {
          "output_type": "execute_result",
          "data": {
            "text/plain": [
              "English Teacher Abroad                                311\n",
              "Customer Service Associate                            146\n",
              "Graduates: English Teacher Abroad (Conversational)    144\n",
              "English Teacher Abroad                                 95\n",
              "Software Engineer                                      86\n",
              "                                                     ... \n",
              "Title Closer/Agent                                      1\n",
              "Field Sales Coordinator                                 1\n",
              "Production Assistant, Indonesian Service                1\n",
              "Digital Manager                                         1\n",
              "Operations Contract                                     1\n",
              "Name: title, Length: 11231, dtype: int64"
            ]
          },
          "metadata": {},
          "execution_count": 11
        }
      ]
    },
    {
      "cell_type": "code",
      "metadata": {
        "trusted": true,
        "id": "s7WDx6ElYWRK",
        "colab": {
          "base_uri": "https://localhost:8080/"
        },
        "outputId": "0b862726-b030-4e18-d47c-34fdb8ead39f"
      },
      "source": [
        "dataframe['location'].value_counts()"
      ],
      "execution_count": null,
      "outputs": [
        {
          "output_type": "execute_result",
          "data": {
            "text/plain": [
              "GB, LND, London          718\n",
              "US, NY, New York         658\n",
              "US, CA, San Francisco    472\n",
              "GR, I, Athens            464\n",
              "US, ,                    339\n",
              "                        ... \n",
              "US, PA, Towanda            1\n",
              "BE, BRU, Auderghem         1\n",
              "US, GA, Georgia            1\n",
              "NO, , Work from home       1\n",
              "NZ, N, North Shore         1\n",
              "Name: location, Length: 3105, dtype: int64"
            ]
          },
          "metadata": {},
          "execution_count": 12
        }
      ]
    },
    {
      "cell_type": "code",
      "metadata": {
        "trusted": true,
        "id": "lXPB6bmKYWRK",
        "colab": {
          "base_uri": "https://localhost:8080/"
        },
        "outputId": "0fd76d68-65ae-43ca-d849-ec9fd080b2d9"
      },
      "source": [
        "dataframe['department'].value_counts()"
      ],
      "execution_count": null,
      "outputs": [
        {
          "output_type": "execute_result",
          "data": {
            "text/plain": [
              "Sales                           551\n",
              "Engineering                     487\n",
              "Marketing                       401\n",
              "Operations                      270\n",
              "IT                              225\n",
              "                               ... \n",
              "Social Media                      1\n",
              "SMRA                              1\n",
              "Software Products - Delivery      1\n",
              "Supply Chain                      1\n",
              "Back Office                       1\n",
              "Name: department, Length: 1337, dtype: int64"
            ]
          },
          "metadata": {},
          "execution_count": 13
        }
      ]
    },
    {
      "cell_type": "code",
      "metadata": {
        "trusted": true,
        "id": "hQ_uPCbIYWRL",
        "colab": {
          "base_uri": "https://localhost:8080/"
        },
        "outputId": "d603c4ec-dd23-4937-c297-a22c26fb9dae"
      },
      "source": [
        "dataframe['fraudulent'].value_counts()"
      ],
      "execution_count": null,
      "outputs": [
        {
          "output_type": "execute_result",
          "data": {
            "text/plain": [
              "0    17014\n",
              "1      866\n",
              "Name: fraudulent, dtype: int64"
            ]
          },
          "metadata": {},
          "execution_count": 14
        }
      ]
    },
    {
      "cell_type": "markdown",
      "metadata": {
        "id": "yzVzPfSuYWRL"
      },
      "source": [
        "**There are 866 fake job profiles**"
      ]
    },
    {
      "cell_type": "code",
      "metadata": {
        "trusted": true,
        "id": "X3KRuG1hYWRM",
        "colab": {
          "base_uri": "https://localhost:8080/",
          "height": 407
        },
        "outputId": "29901acf-d9b8-4802-d65e-ea9f24c1e033"
      },
      "source": [
        "plt.figure(figsize=(8,6))\n",
        "sns.countplot(x='telecommuting',data=dataframe)"
      ],
      "execution_count": null,
      "outputs": [
        {
          "output_type": "execute_result",
          "data": {
            "text/plain": [
              "<matplotlib.axes._subplots.AxesSubplot at 0x7fd6d2c5f110>"
            ]
          },
          "metadata": {},
          "execution_count": 15
        },
        {
          "output_type": "display_data",
          "data": {
            "image/png": "[encoded data removed]",
            "text/plain": [
              "<Figure size 576x432 with 1 Axes>"
            ]
          },
          "metadata": {
            "needs_background": "light"
          }
        }
      ]
    },
    {
      "cell_type": "code",
      "metadata": {
        "trusted": true,
        "id": "cwCrmDHOYWRM",
        "colab": {
          "base_uri": "https://localhost:8080/",
          "height": 407
        },
        "outputId": "5e0a31b4-4400-4b68-b53c-138cddd644f5"
      },
      "source": [
        "plt.figure(figsize=(8,6))\n",
        "sns.countplot(x='telecommuting',hue='fraudulent',data=dataframe)"
      ],
      "execution_count": null,
      "outputs": [
        {
          "output_type": "execute_result",
          "data": {
            "text/plain": [
              "<matplotlib.axes._subplots.AxesSubplot at 0x7fd6d2c60690>"
            ]
          },
          "metadata": {},
          "execution_count": 16
        },
        {
          "output_type": "display_data",
          "data": {
            "image/png": "[encoded data removed]",
            "text/plain": [
              "<Figure size 576x432 with 1 Axes>"
            ]
          },
          "metadata": {
            "needs_background": "light"
          }
        }
      ]
    },
    {
      "cell_type": "code",
      "metadata": {
        "trusted": true,
        "id": "MHnLqgn2YWRN",
        "colab": {
          "base_uri": "https://localhost:8080/",
          "height": 408
        },
        "outputId": "3a001f56-0cf0-4b70-a8d4-b732256cfa2c"
      },
      "source": [
        "plt.figure(figsize=(8,6))\n",
        "sns.countplot(x='has_company_logo',hue='fraudulent',data=dataframe)"
      ],
      "execution_count": null,
      "outputs": [
        {
          "output_type": "execute_result",
          "data": {
            "text/plain": [
              "<matplotlib.axes._subplots.AxesSubplot at 0x7fd6d1449a90>"
            ]
          },
          "metadata": {},
          "execution_count": 17
        },
        {
          "output_type": "display_data",
          "data": {
            "image/png": "[encoded data removed]",
            "text/plain": [
              "<Figure size 576x432 with 1 Axes>"
            ]
          },
          "metadata": {
            "needs_background": "light"
          }
        }
      ]
    },
    {
      "cell_type": "code",
      "metadata": {
        "trusted": true,
        "id": "FVgrsMcXYWRO",
        "colab": {
          "base_uri": "https://localhost:8080/"
        },
        "outputId": "399ab113-b7d0-4ec1-fa05-e920a0dbb034"
      },
      "source": [
        "dataframe['has_questions'].value_counts()"
      ],
      "execution_count": null,
      "outputs": [
        {
          "output_type": "execute_result",
          "data": {
            "text/plain": [
              "0    9088\n",
              "1    8792\n",
              "Name: has_questions, dtype: int64"
            ]
          },
          "metadata": {},
          "execution_count": 18
        }
      ]
    },
    {
      "cell_type": "code",
      "metadata": {
        "trusted": true,
        "id": "cpaZNGbxYWRO",
        "colab": {
          "base_uri": "https://localhost:8080/",
          "height": 408
        },
        "outputId": "59d4403a-5f60-47fd-8091-9758faa19daa"
      },
      "source": [
        "plt.figure(figsize=(8,6))\n",
        "sns.countplot(x='has_questions',hue='fraudulent',data=dataframe)"
      ],
      "execution_count": null,
      "outputs": [
        {
          "output_type": "execute_result",
          "data": {
            "text/plain": [
              "<matplotlib.axes._subplots.AxesSubplot at 0x7fd6d142f3d0>"
            ]
          },
          "metadata": {},
          "execution_count": 19
        },
        {
          "output_type": "display_data",
          "data": {
            "image/png": "[encoded data removed]",
            "text/plain": [
              "<Figure size 576x432 with 1 Axes>"
            ]
          },
          "metadata": {
            "needs_background": "light"
          }
        }
      ]
    },
    {
      "cell_type": "code",
      "metadata": {
        "trusted": true,
        "id": "bwmFw2p_YWRO",
        "colab": {
          "base_uri": "https://localhost:8080/"
        },
        "outputId": "1f5ecb2e-fe98-403b-8db5-953b006e386d"
      },
      "source": [
        "dataframe['employment_type'].value_counts()"
      ],
      "execution_count": null,
      "outputs": [
        {
          "output_type": "execute_result",
          "data": {
            "text/plain": [
              "Full-time    11620\n",
              "Contract      1524\n",
              "Part-time      797\n",
              "Temporary      241\n",
              "Other          227\n",
              "Name: employment_type, dtype: int64"
            ]
          },
          "metadata": {},
          "execution_count": 20
        }
      ]
    },
    {
      "cell_type": "code",
      "metadata": {
        "trusted": true,
        "id": "Ix7988OnYWRO",
        "colab": {
          "base_uri": "https://localhost:8080/"
        },
        "outputId": "a880f742-2298-4199-e3f7-1e7d5b9086ac"
      },
      "source": [
        "dataframe['employment_type'].isnull().sum()"
      ],
      "execution_count": null,
      "outputs": [
        {
          "output_type": "execute_result",
          "data": {
            "text/plain": [
              "3471"
            ]
          },
          "metadata": {},
          "execution_count": 21
        }
      ]
    },
    {
      "cell_type": "code",
      "metadata": {
        "trusted": true,
        "id": "evoebAwKYWRO"
      },
      "source": [
        "dataframe.dropna(subset=['employment_type'],axis=0,inplace=True)"
      ],
      "execution_count": null,
      "outputs": []
    },
    {
      "cell_type": "code",
      "metadata": {
        "trusted": true,
        "id": "WBTb3saCYWRP",
        "colab": {
          "base_uri": "https://localhost:8080/"
        },
        "outputId": "e4b4144b-b8b4-4f1f-a3b4-be5db5c581c4"
      },
      "source": [
        "dataframe.shape"
      ],
      "execution_count": null,
      "outputs": [
        {
          "output_type": "execute_result",
          "data": {
            "text/plain": [
              "(14409, 18)"
            ]
          },
          "metadata": {},
          "execution_count": 23
        }
      ]
    },
    {
      "cell_type": "code",
      "metadata": {
        "trusted": true,
        "id": "YBvZmNnNYWRP",
        "colab": {
          "base_uri": "https://localhost:8080/"
        },
        "outputId": "d0bccbc2-5c69-458b-bcbb-0585fb8d5e80"
      },
      "source": [
        "dataframe['required_experience'].value_counts()"
      ],
      "execution_count": null,
      "outputs": [
        {
          "output_type": "execute_result",
          "data": {
            "text/plain": [
              "Mid-Senior level    3791\n",
              "Entry level         2628\n",
              "Associate           2277\n",
              "Not Applicable      1013\n",
              "Director             387\n",
              "Internship           361\n",
              "Executive            140\n",
              "Name: required_experience, dtype: int64"
            ]
          },
          "metadata": {},
          "execution_count": 24
        }
      ]
    },
    {
      "cell_type": "code",
      "metadata": {
        "trusted": true,
        "id": "tqbUJRfYYWRP"
      },
      "source": [
        "dataframe.dropna(subset=['required_experience'],axis=0,inplace=True)"
      ],
      "execution_count": null,
      "outputs": []
    },
    {
      "cell_type": "code",
      "metadata": {
        "trusted": true,
        "id": "EfHpvzHXYWRP",
        "colab": {
          "base_uri": "https://localhost:8080/"
        },
        "outputId": "dcb3fe94-26b4-4e80-960e-cfae97fb190c"
      },
      "source": [
        "dataframe['required_education'].value_counts()"
      ],
      "execution_count": null,
      "outputs": [
        {
          "output_type": "execute_result",
          "data": {
            "text/plain": [
              "Bachelor's Degree                    4199\n",
              "High School or equivalent            1850\n",
              "Unspecified                          1316\n",
              "Master's Degree                       328\n",
              "Associate Degree                      250\n",
              "Certification                         146\n",
              "Some College Coursework Completed      95\n",
              "Professional                           67\n",
              "Vocational                             43\n",
              "Doctorate                              25\n",
              "Vocational - Degree                     6\n",
              "Some High School Coursework             5\n",
              "Vocational - HS Diploma                 4\n",
              "Name: required_education, dtype: int64"
            ]
          },
          "metadata": {},
          "execution_count": 26
        }
      ]
    },
    {
      "cell_type": "code",
      "metadata": {
        "trusted": true,
        "id": "isKDw7LjYWRP"
      },
      "source": [
        "dataframe.dropna(subset=['required_education'],axis=0,inplace=True)"
      ],
      "execution_count": null,
      "outputs": []
    },
    {
      "cell_type": "code",
      "metadata": {
        "trusted": true,
        "id": "pkcr-_7nYWRP"
      },
      "source": [
        "#removing unnecessary columns\n",
        "features=['job_id','title','location','department','salary_range','company_profile','description','requirements','benefits','industry','function']"
      ],
      "execution_count": null,
      "outputs": []
    },
    {
      "cell_type": "code",
      "metadata": {
        "trusted": true,
        "id": "_mhK3PGDYWRQ"
      },
      "source": [
        "dataframe.drop(features,axis=1,inplace=True)"
      ],
      "execution_count": null,
      "outputs": []
    },
    {
      "cell_type": "code",
      "metadata": {
        "trusted": true,
        "id": "9NLvK7azYWRQ",
        "colab": {
          "base_uri": "https://localhost:8080/"
        },
        "outputId": "72e33b6e-470f-47f1-cbca-5b5abaa5e3df"
      },
      "source": [
        "dataframe.shape"
      ],
      "execution_count": null,
      "outputs": [
        {
          "output_type": "execute_result",
          "data": {
            "text/plain": [
              "(8334, 7)"
            ]
          },
          "metadata": {},
          "execution_count": 30
        }
      ]
    },
    {
      "cell_type": "code",
      "metadata": {
        "trusted": true,
        "id": "mtsWImG_YWRQ",
        "colab": {
          "base_uri": "https://localhost:8080/",
          "height": 206
        },
        "outputId": "c04f6846-94a0-4df3-8b20-cf167ed1d672"
      },
      "source": [
        "dataframe.head()"
      ],
      "execution_count": null,
      "outputs": [
        {
          "output_type": "execute_result",
          "data": {
            "text/html": [
              "<div>\n",
              "<style scoped>\n",
              "    .dataframe tbody tr th:only-of-type {\n",
              "        vertical-align: middle;\n",
              "    }\n",
              "\n",
              "    .dataframe tbody tr th {\n",
              "        vertical-align: top;\n",
              "    }\n",
              "\n",
              "    .dataframe thead th {\n",
              "        text-align: right;\n",
              "    }\n",
              "</style>\n",
              "<table border=\"1\" class=\"dataframe\">\n",
              "  <thead>\n",
              "    <tr style=\"text-align: right;\">\n",
              "      <th></th>\n",
              "      <th>telecommuting</th>\n",
              "      <th>has_company_logo</th>\n",
              "      <th>has_questions</th>\n",
              "      <th>employment_type</th>\n",
              "      <th>required_experience</th>\n",
              "      <th>required_education</th>\n",
              "      <th>fraudulent</th>\n",
              "    </tr>\n",
              "  </thead>\n",
              "  <tbody>\n",
              "    <tr>\n",
              "      <th>3</th>\n",
              "      <td>0</td>\n",
              "      <td>1</td>\n",
              "      <td>0</td>\n",
              "      <td>Full-time</td>\n",
              "      <td>Mid-Senior level</td>\n",
              "      <td>Bachelor's Degree</td>\n",
              "      <td>0</td>\n",
              "    </tr>\n",
              "    <tr>\n",
              "      <th>4</th>\n",
              "      <td>0</td>\n",
              "      <td>1</td>\n",
              "      <td>1</td>\n",
              "      <td>Full-time</td>\n",
              "      <td>Mid-Senior level</td>\n",
              "      <td>Bachelor's Degree</td>\n",
              "      <td>0</td>\n",
              "    </tr>\n",
              "    <tr>\n",
              "      <th>6</th>\n",
              "      <td>0</td>\n",
              "      <td>1</td>\n",
              "      <td>1</td>\n",
              "      <td>Full-time</td>\n",
              "      <td>Mid-Senior level</td>\n",
              "      <td>Master's Degree</td>\n",
              "      <td>0</td>\n",
              "    </tr>\n",
              "    <tr>\n",
              "      <th>9</th>\n",
              "      <td>0</td>\n",
              "      <td>1</td>\n",
              "      <td>0</td>\n",
              "      <td>Part-time</td>\n",
              "      <td>Entry level</td>\n",
              "      <td>High School or equivalent</td>\n",
              "      <td>0</td>\n",
              "    </tr>\n",
              "    <tr>\n",
              "      <th>10</th>\n",
              "      <td>0</td>\n",
              "      <td>0</td>\n",
              "      <td>0</td>\n",
              "      <td>Full-time</td>\n",
              "      <td>Mid-Senior level</td>\n",
              "      <td>Bachelor's Degree</td>\n",
              "      <td>0</td>\n",
              "    </tr>\n",
              "  </tbody>\n",
              "</table>\n",
              "</div>"
            ],
            "text/plain": [
              "    telecommuting  has_company_logo  ...         required_education fraudulent\n",
              "3               0                 1  ...          Bachelor's Degree          0\n",
              "4               0                 1  ...          Bachelor's Degree          0\n",
              "6               0                 1  ...            Master's Degree          0\n",
              "9               0                 1  ...  High School or equivalent          0\n",
              "10              0                 0  ...          Bachelor's Degree          0\n",
              "\n",
              "[5 rows x 7 columns]"
            ]
          },
          "metadata": {},
          "execution_count": 31
        }
      ]
    },
    {
      "cell_type": "code",
      "metadata": {
        "trusted": true,
        "id": "EHdW11vNYWRQ",
        "colab": {
          "base_uri": "https://localhost:8080/"
        },
        "outputId": "76b8eb00-b6ca-497d-a6de-4a2a97c5ecb9"
      },
      "source": [
        "dataframe.dtypes"
      ],
      "execution_count": null,
      "outputs": [
        {
          "output_type": "execute_result",
          "data": {
            "text/plain": [
              "telecommuting           int64\n",
              "has_company_logo        int64\n",
              "has_questions           int64\n",
              "employment_type        object\n",
              "required_experience    object\n",
              "required_education     object\n",
              "fraudulent              int64\n",
              "dtype: object"
            ]
          },
          "metadata": {},
          "execution_count": 32
        }
      ]
    },
    {
      "cell_type": "code",
      "metadata": {
        "trusted": true,
        "id": "qZqMdNhbYWRQ",
        "colab": {
          "base_uri": "https://localhost:8080/"
        },
        "outputId": "b78df409-25d4-4013-c017-7223441f86d9"
      },
      "source": [
        "categorical=dataframe.select_dtypes('object').columns.tolist()\n",
        "categorical"
      ],
      "execution_count": null,
      "outputs": [
        {
          "output_type": "execute_result",
          "data": {
            "text/plain": [
              "['employment_type', 'required_experience', 'required_education']"
            ]
          },
          "metadata": {},
          "execution_count": 33
        }
      ]
    },
    {
      "cell_type": "code",
      "metadata": {
        "trusted": true,
        "id": "fX9VhrlxYWRQ",
        "colab": {
          "base_uri": "https://localhost:8080/",
          "height": 206
        },
        "outputId": "a8bf2141-8392-4bfe-a579-d4bfe12a47ec"
      },
      "source": [
        "#converting the categorical values into numerical values\n",
        "from sklearn.preprocessing import LabelEncoder\n",
        "encoder = LabelEncoder()\n",
        "for x in dataframe.columns:\n",
        "    dataframe[x] = encoder.fit_transform(dataframe[x])\n",
        "dataframe.head()"
      ],
      "execution_count": null,
      "outputs": [
        {
          "output_type": "execute_result",
          "data": {
            "text/html": [
              "<div>\n",
              "<style scoped>\n",
              "    .dataframe tbody tr th:only-of-type {\n",
              "        vertical-align: middle;\n",
              "    }\n",
              "\n",
              "    .dataframe tbody tr th {\n",
              "        vertical-align: top;\n",
              "    }\n",
              "\n",
              "    .dataframe thead th {\n",
              "        text-align: right;\n",
              "    }\n",
              "</style>\n",
              "<table border=\"1\" class=\"dataframe\">\n",
              "  <thead>\n",
              "    <tr style=\"text-align: right;\">\n",
              "      <th></th>\n",
              "      <th>telecommuting</th>\n",
              "      <th>has_company_logo</th>\n",
              "      <th>has_questions</th>\n",
              "      <th>employment_type</th>\n",
              "      <th>required_experience</th>\n",
              "      <th>required_education</th>\n",
              "      <th>fraudulent</th>\n",
              "    </tr>\n",
              "  </thead>\n",
              "  <tbody>\n",
              "    <tr>\n",
              "      <th>3</th>\n",
              "      <td>0</td>\n",
              "      <td>1</td>\n",
              "      <td>0</td>\n",
              "      <td>1</td>\n",
              "      <td>5</td>\n",
              "      <td>1</td>\n",
              "      <td>0</td>\n",
              "    </tr>\n",
              "    <tr>\n",
              "      <th>4</th>\n",
              "      <td>0</td>\n",
              "      <td>1</td>\n",
              "      <td>1</td>\n",
              "      <td>1</td>\n",
              "      <td>5</td>\n",
              "      <td>1</td>\n",
              "      <td>0</td>\n",
              "    </tr>\n",
              "    <tr>\n",
              "      <th>6</th>\n",
              "      <td>0</td>\n",
              "      <td>1</td>\n",
              "      <td>1</td>\n",
              "      <td>1</td>\n",
              "      <td>5</td>\n",
              "      <td>5</td>\n",
              "      <td>0</td>\n",
              "    </tr>\n",
              "    <tr>\n",
              "      <th>9</th>\n",
              "      <td>0</td>\n",
              "      <td>1</td>\n",
              "      <td>0</td>\n",
              "      <td>3</td>\n",
              "      <td>2</td>\n",
              "      <td>4</td>\n",
              "      <td>0</td>\n",
              "    </tr>\n",
              "    <tr>\n",
              "      <th>10</th>\n",
              "      <td>0</td>\n",
              "      <td>0</td>\n",
              "      <td>0</td>\n",
              "      <td>1</td>\n",
              "      <td>5</td>\n",
              "      <td>1</td>\n",
              "      <td>0</td>\n",
              "    </tr>\n",
              "  </tbody>\n",
              "</table>\n",
              "</div>"
            ],
            "text/plain": [
              "    telecommuting  has_company_logo  ...  required_education  fraudulent\n",
              "3               0                 1  ...                   1           0\n",
              "4               0                 1  ...                   1           0\n",
              "6               0                 1  ...                   5           0\n",
              "9               0                 1  ...                   4           0\n",
              "10              0                 0  ...                   1           0\n",
              "\n",
              "[5 rows x 7 columns]"
            ]
          },
          "metadata": {},
          "execution_count": 34
        }
      ]
    },
    {
      "cell_type": "code",
      "metadata": {
        "trusted": true,
        "id": "NlS9ihiEYWRQ"
      },
      "source": [
        "dataframe.reset_index(drop=True,inplace=True)"
      ],
      "execution_count": null,
      "outputs": []
    },
    {
      "cell_type": "code",
      "metadata": {
        "trusted": true,
        "id": "f1hmx9gsYWRR",
        "colab": {
          "base_uri": "https://localhost:8080/"
        },
        "outputId": "445b5f54-9bd1-4b5d-9e1d-734165f85d08"
      },
      "source": [
        "dataframe.shape"
      ],
      "execution_count": null,
      "outputs": [
        {
          "output_type": "execute_result",
          "data": {
            "text/plain": [
              "(8334, 7)"
            ]
          },
          "metadata": {},
          "execution_count": 36
        }
      ]
    },
    {
      "cell_type": "code",
      "metadata": {
        "trusted": true,
        "id": "wI7MLtdYYWRR",
        "colab": {
          "base_uri": "https://localhost:8080/",
          "height": 598
        },
        "outputId": "90a1ab7f-4eb5-40bf-f67a-f2fcbd4621f8"
      },
      "source": [
        "sns.heatmap(dataframe.corr(),annot=True,fmt='.2f')"
      ],
      "execution_count": null,
      "outputs": [
        {
          "output_type": "execute_result",
          "data": {
            "text/plain": [
              "<matplotlib.axes._subplots.AxesSubplot at 0x7fd6d145abd0>"
            ]
          },
          "metadata": {},
          "execution_count": 37
        },
        {
          "output_type": "display_data",
          "data": {
            "image/png": "[encoded data removed]",
            "text/plain": [
              "<Figure size 720x576 with 2 Axes>"
            ]
          },
          "metadata": {
            "needs_background": "light"
          }
        }
      ]
    },
    {
      "cell_type": "code",
      "metadata": {
        "trusted": true,
        "id": "USG6oX-RYWRR",
        "colab": {
          "base_uri": "https://localhost:8080/"
        },
        "outputId": "d179b84a-70b0-4151-fe0a-80103bfba6e1"
      },
      "source": [
        "dataframe['fraudulent'].value_counts()"
      ],
      "execution_count": null,
      "outputs": [
        {
          "output_type": "execute_result",
          "data": {
            "text/plain": [
              "0    7974\n",
              "1     360\n",
              "Name: fraudulent, dtype: int64"
            ]
          },
          "metadata": {},
          "execution_count": 38
        }
      ]
    },
    {
      "cell_type": "markdown",
      "metadata": {
        "id": "t_O9KyiMYWRR"
      },
      "source": [
        "**The dataset is an imbalanced dataset. So RandomOverSampling should be applied on the dataset**"
      ]
    },
    {
      "cell_type": "code",
      "metadata": {
        "trusted": true,
        "id": "3Bl2zbQVYWRS"
      },
      "source": [
        "#dividing the independent and dependent dataset\n",
        "X=dataframe.drop('fraudulent',axis=1)\n",
        "y=dataframe['fraudulent']"
      ],
      "execution_count": null,
      "outputs": []
    },
    {
      "cell_type": "code",
      "metadata": {
        "trusted": true,
        "id": "FNTs-ZANYWRS"
      },
      "source": [
        "from sklearn.ensemble import ExtraTreesClassifier\n",
        "etc=ExtraTreesClassifier()\n",
        "etc.fit(X,y)\n",
        "etc.feature_importances_\n",
        "score=pd.Series(etc.feature_importances_)\n",
        "score.index=X.columns"
      ],
      "execution_count": null,
      "outputs": []
    },
    {
      "cell_type": "code",
      "metadata": {
        "trusted": true,
        "id": "vs2pgg2RYWRS",
        "colab": {
          "base_uri": "https://localhost:8080/",
          "height": 594
        },
        "outputId": "034ec5bc-7c59-4280-babd-8fa955e198ef"
      },
      "source": [
        "score.nlargest().plot(kind='bar')"
      ],
      "execution_count": null,
      "outputs": [
        {
          "output_type": "execute_result",
          "data": {
            "text/plain": [
              "<matplotlib.axes._subplots.AxesSubplot at 0x7fd6c3b23390>"
            ]
          },
          "metadata": {},
          "execution_count": 41
        },
        {
          "output_type": "display_data",
          "data": {
            "image/png": "[encoded data removed]",
            "text/plain": [
              "<Figure size 720x576 with 1 Axes>"
            ]
          },
          "metadata": {
            "needs_background": "light"
          }
        }
      ]
    },
    {
      "cell_type": "code",
      "metadata": {
        "trusted": true,
        "id": "mVimvmgeYWRS"
      },
      "source": [
        "#normalize the dataset\n",
        "from sklearn.preprocessing import MinMaxScaler\n",
        "\n",
        "# build the scaler model\n",
        "scaler = MinMaxScaler()# fit using the train set\n",
        "scaler.fit(X)# transform the test test\n",
        "X_norm = scaler.transform(X)\n"
      ],
      "execution_count": null,
      "outputs": []
    },
    {
      "cell_type": "code",
      "metadata": {
        "id": "K-N_yO_HECly",
        "colab": {
          "base_uri": "https://localhost:8080/"
        },
        "outputId": "d62b6594-bb8c-43bc-945e-9a8e6b634450"
      },
      "source": [
        "print(X_norm)"
      ],
      "execution_count": null,
      "outputs": [
        {
          "output_type": "stream",
          "name": "stdout",
          "text": [
            "[[0.         1.         0.         0.25       0.83333333 0.08333333]\n",
            " [0.         1.         1.         0.25       0.83333333 0.08333333]\n",
            " [0.         1.         1.         0.25       0.83333333 0.41666667]\n",
            " ...\n",
            " [0.         0.         0.         0.25       0.83333333 0.08333333]\n",
            " [0.         1.         1.         0.25       0.83333333 0.08333333]\n",
            " [0.         0.         1.         0.         1.         0.5       ]]\n"
          ]
        }
      ]
    },
    {
      "cell_type": "markdown",
      "metadata": {
        "id": "s2USVlrpYWRS"
      },
      "source": [
        "# Random Over Sampling"
      ]
    },
    {
      "cell_type": "code",
      "metadata": {
        "trusted": true,
        "id": "kQLh1m0SYWRS"
      },
      "source": [
        "from imblearn.over_sampling import RandomOverSampler\n",
        "rs = RandomOverSampler(sampling_strategy='minority')\n",
        "X_over, y_over=rs.fit_resample(X_norm,y)"
      ],
      "execution_count": null,
      "outputs": []
    },
    {
      "cell_type": "code",
      "metadata": {
        "trusted": true,
        "id": "HOT4K1vNYWRS"
      },
      "source": [
        "from sklearn.model_selection import train_test_split\n",
        "X_train,X_test,y_train,y_test=train_test_split(X_over,y_over,test_size=0.40,random_state=42)"
      ],
      "execution_count": null,
      "outputs": []
    },
    {
      "cell_type": "markdown",
      "metadata": {
        "id": "6NgjX8h4YWRT"
      },
      "source": [
        "# Models"
      ]
    },
    {
      "cell_type": "code",
      "metadata": {
        "id": "V6Vej7pjXH_j"
      },
      "source": [
        "# Classification Metrics\n",
        "from sklearn.utils.multiclass import unique_labels\n",
        "import seaborn as sns\n",
        "def PlotConfusionMatrix(yTest, Prediction):\n",
        "    labels = unique_labels(yTest)\n",
        "    columns = [f'Predicted: {label}' for label in labels]\n",
        "    index = [f'Actual: {label}' for label in labels]\n",
        "    table = pd.DataFrame(confusion_matrix(y_true=yTest, y_pred=Prediction), columns=columns, index=index)\n",
        "    return table\n",
        "\n",
        "def HeatMap(yTest, Prediction):\n",
        "    labels = unique_labels(yTest)\n",
        "    columns = [f'Predicted: {label}' for label in labels]\n",
        "    index = [f'Actual: {label}' for label in labels]\n",
        "    table = pd.DataFrame(confusion_matrix(y_true=yTest, y_pred=Prediction), columns=columns, index=index)\n",
        "    return sns.heatmap(table, annot=True, fmt='d',cmap='viridis')\n",
        "\n",
        "def Results(yTest, Prediction):    \n",
        "    print(\"Overall Accuracy\", metrics.accuracy_score(yTest, Prediction))\n",
        "    print('\\n')\n",
        "    cm = confusion_matrix(yTest, Prediction)\n",
        "    cm = cm.astype('float') / cm.sum(axis=1)[:, np.newaxis]\n",
        "    class_accuracies = cm.diagonal()\n",
        "    for accuracy in range(len(class_accuracies)):\n",
        "        print(f'Class #{accuracy} Accuracy {class_accuracies[accuracy]}')\n",
        "    print('\\n')\n",
        "    print(classification_report(yTest, Prediction))"
      ],
      "execution_count": null,
      "outputs": []
    },
    {
      "cell_type": "code",
      "metadata": {
        "id": "fP85Uo33Bn7v",
        "colab": {
          "base_uri": "https://localhost:8080/"
        },
        "outputId": "c6cbeb74-efea-49b2-f64c-ecfda74a1e94"
      },
      "source": [
        "print(X_train)"
      ],
      "execution_count": null,
      "outputs": [
        {
          "output_type": "stream",
          "name": "stdout",
          "text": [
            "[[0.         1.         0.         0.         0.83333333 0.08333333]\n",
            " [0.         0.         0.         0.25       0.         0.08333333]\n",
            " [0.         1.         1.         0.25       0.83333333 0.33333333]\n",
            " ...\n",
            " [0.         1.         0.         0.75       0.33333333 0.33333333]\n",
            " [0.         1.         1.         0.25       0.16666667 0.41666667]\n",
            " [0.         1.         1.         0.25       1.         0.75      ]]\n"
          ]
        }
      ]
    },
    {
      "cell_type": "code",
      "metadata": {
        "id": "gEeHj3mjBpgi",
        "colab": {
          "base_uri": "https://localhost:8080/"
        },
        "outputId": "7cd94347-0fd7-4317-bcd9-1daf16f2d42d"
      },
      "source": [
        "print(y_train)"
      ],
      "execution_count": null,
      "outputs": [
        {
          "output_type": "stream",
          "name": "stdout",
          "text": [
            "6836     0\n",
            "9418     1\n",
            "15083    1\n",
            "4989     0\n",
            "10633    1\n",
            "        ..\n",
            "13418    1\n",
            "5390     0\n",
            "860      0\n",
            "15795    1\n",
            "7270     0\n",
            "Name: fraudulent, Length: 9568, dtype: int64\n"
          ]
        }
      ]
    },
    {
      "cell_type": "code",
      "metadata": {
        "id": "vJROOMGMXIzW"
      },
      "source": [
        "# Multinomial Naive Bayes\n",
        "from sklearn.naive_bayes import MultinomialNB\n",
        "\n",
        "Classifier = MultinomialNB()\n",
        "Classifier.fit(X_train, y_train)\n",
        "prediction = Classifier.predict(X_test)"
      ],
      "execution_count": null,
      "outputs": []
    },
    {
      "cell_type": "code",
      "metadata": {
        "id": "niNhxPbDXQBr",
        "colab": {
          "base_uri": "https://localhost:8080/",
          "height": 883
        },
        "outputId": "e5d91220-9283-458f-e1ee-1e3f5371651c"
      },
      "source": [
        "print(Results(y_test, prediction))\n",
        "print(PlotConfusionMatrix(y_test, prediction))\n",
        "print(HeatMap(y_test, prediction))"
      ],
      "execution_count": null,
      "outputs": [
        {
          "output_type": "stream",
          "name": "stdout",
          "text": [
            "Overall Accuracy 0.6037617554858934\n",
            "\n",
            "\n",
            "Class #0 Accuracy 0.7435095401939318\n",
            "Class #1 Accuracy 0.46339930882814956\n",
            "\n",
            "\n",
            "              precision    recall  f1-score   support\n",
            "\n",
            "           0       0.58      0.74      0.65      3197\n",
            "           1       0.64      0.46      0.54      3183\n",
            "\n",
            "    accuracy                           0.60      6380\n",
            "   macro avg       0.61      0.60      0.60      6380\n",
            "weighted avg       0.61      0.60      0.60      6380\n",
            "\n",
            "None\n",
            "           Predicted: 0  Predicted: 1\n",
            "Actual: 0          2377           820\n",
            "Actual: 1          1708          1475\n",
            "AxesSubplot(0.125,0.125;0.62x0.755)\n"
          ]
        },
        {
          "output_type": "display_data",
          "data": {
            "image/png": "[encoded data removed]",
            "text/plain": [
              "<Figure size 720x576 with 2 Axes>"
            ]
          },
          "metadata": {
            "needs_background": "light"
          }
        }
      ]
    },
    {
      "cell_type": "code",
      "metadata": {
        "id": "sNECfW5kYWRV"
      },
      "source": [
        "# Gaussian Naive Bayes\n",
        "from sklearn.naive_bayes import GaussianNB\n",
        "\n",
        "Classifier = GaussianNB()\n",
        "Classifier.fit(X_train, y_train)\n",
        "prediction = Classifier.predict(X_test)"
      ],
      "execution_count": null,
      "outputs": []
    },
    {
      "cell_type": "code",
      "metadata": {
        "id": "MkigpazfXa7u",
        "colab": {
          "base_uri": "https://localhost:8080/",
          "height": 883
        },
        "outputId": "11a38a5e-b2e3-4b4f-c303-1964c1f082d2"
      },
      "source": [
        "print(Results(y_test, prediction))\n",
        "print(PlotConfusionMatrix(y_test, prediction))\n",
        "print(HeatMap(y_test, prediction))"
      ],
      "execution_count": null,
      "outputs": [
        {
          "output_type": "stream",
          "name": "stdout",
          "text": [
            "Overall Accuracy 0.6344827586206897\n",
            "\n",
            "\n",
            "Class #0 Accuracy 0.8142008132624335\n",
            "Class #1 Accuracy 0.4539742381401194\n",
            "\n",
            "\n",
            "              precision    recall  f1-score   support\n",
            "\n",
            "           0       0.60      0.81      0.69      3197\n",
            "           1       0.71      0.45      0.55      3183\n",
            "\n",
            "    accuracy                           0.63      6380\n",
            "   macro avg       0.65      0.63      0.62      6380\n",
            "weighted avg       0.65      0.63      0.62      6380\n",
            "\n",
            "None\n",
            "           Predicted: 0  Predicted: 1\n",
            "Actual: 0          2603           594\n",
            "Actual: 1          1738          1445\n",
            "AxesSubplot(0.125,0.125;0.62x0.755)\n"
          ]
        },
        {
          "output_type": "display_data",
          "data": {
            "image/png": "[encoded data removed]",
            "text/plain": [
              "<Figure size 720x576 with 2 Axes>"
            ]
          },
          "metadata": {
            "needs_background": "light"
          }
        }
      ]
    },
    {
      "cell_type": "code",
      "metadata": {
        "id": "LT3cq6WrXbyr"
      },
      "source": [
        "# Categorical Naive Bayes\n",
        "from sklearn.naive_bayes import CategoricalNB\n",
        "\n",
        "Classifier = CategoricalNB()\n",
        "Classifier.fit(X_train, y_train)\n",
        "prediction = Classifier.predict(X_test)"
      ],
      "execution_count": null,
      "outputs": []
    },
    {
      "cell_type": "code",
      "metadata": {
        "id": "xJxHaKHCXc1l",
        "colab": {
          "base_uri": "https://localhost:8080/",
          "height": 883
        },
        "outputId": "ece4848f-8149-4c9d-e280-9a0fc510bfb0"
      },
      "source": [
        "print(Results(y_test, prediction))\n",
        "print(PlotConfusionMatrix(y_test, prediction))\n",
        "print(HeatMap(y_test, prediction))"
      ],
      "execution_count": null,
      "outputs": [
        {
          "output_type": "stream",
          "name": "stdout",
          "text": [
            "Overall Accuracy 0.6371473354231975\n",
            "\n",
            "\n",
            "Class #0 Accuracy 0.8160775727244292\n",
            "Class #1 Accuracy 0.4574300973923971\n",
            "\n",
            "\n",
            "              precision    recall  f1-score   support\n",
            "\n",
            "           0       0.60      0.82      0.69      3197\n",
            "           1       0.71      0.46      0.56      3183\n",
            "\n",
            "    accuracy                           0.64      6380\n",
            "   macro avg       0.66      0.64      0.62      6380\n",
            "weighted avg       0.66      0.64      0.63      6380\n",
            "\n",
            "None\n",
            "           Predicted: 0  Predicted: 1\n",
            "Actual: 0          2609           588\n",
            "Actual: 1          1727          1456\n",
            "AxesSubplot(0.125,0.125;0.62x0.755)\n"
          ]
        },
        {
          "output_type": "display_data",
          "data": {
            "image/png": "[encoded data removed]",
            "text/plain": [
              "<Figure size 720x576 with 2 Axes>"
            ]
          },
          "metadata": {
            "needs_background": "light"
          }
        }
      ]
    },
    {
      "cell_type": "code",
      "metadata": {
        "id": "4RPdiAPUXd7U"
      },
      "source": [
        "from sklearn.tree import DecisionTreeClassifier\n",
        "\n",
        "Classifier = DecisionTreeClassifier()\n",
        "Classifier.fit(X_train, y_train)\n",
        "prediction = Classifier.predict(X_test)"
      ],
      "execution_count": null,
      "outputs": []
    },
    {
      "cell_type": "code",
      "metadata": {
        "id": "uyVFBpXdXe1b",
        "colab": {
          "base_uri": "https://localhost:8080/",
          "height": 883
        },
        "outputId": "76074e4c-8ba3-4862-cd72-88b5a3fdf502"
      },
      "source": [
        "print(Results(y_test, prediction))\n",
        "print(PlotConfusionMatrix(y_test, prediction))\n",
        "print(HeatMap(y_test, prediction))"
      ],
      "execution_count": null,
      "outputs": [
        {
          "output_type": "stream",
          "name": "stdout",
          "text": [
            "Overall Accuracy 0.831974921630094\n",
            "\n",
            "\n",
            "Class #0 Accuracy 0.7863622145761652\n",
            "Class #1 Accuracy 0.8777882500785422\n",
            "\n",
            "\n",
            "              precision    recall  f1-score   support\n",
            "\n",
            "           0       0.87      0.79      0.82      3197\n",
            "           1       0.80      0.88      0.84      3183\n",
            "\n",
            "    accuracy                           0.83      6380\n",
            "   macro avg       0.83      0.83      0.83      6380\n",
            "weighted avg       0.83      0.83      0.83      6380\n",
            "\n",
            "None\n",
            "           Predicted: 0  Predicted: 1\n",
            "Actual: 0          2514           683\n",
            "Actual: 1           389          2794\n",
            "AxesSubplot(0.125,0.125;0.62x0.755)\n"
          ]
        },
        {
          "output_type": "display_data",
          "data": {
            "image/png": "[encoded data removed]",
            "text/plain": [
              "<Figure size 720x576 with 2 Axes>"
            ]
          },
          "metadata": {
            "needs_background": "light"
          }
        }
      ]
    },
    {
      "cell_type": "code",
      "metadata": {
        "id": "5uEqGdAWXfxq"
      },
      "source": [
        "from sklearn.ensemble import RandomForestClassifier\n",
        "\n",
        "Classifier = RandomForestClassifier()\n",
        "Classifier.fit(X_train, y_train)\n",
        "prediction = Classifier.predict(X_test)"
      ],
      "execution_count": null,
      "outputs": []
    },
    {
      "cell_type": "code",
      "metadata": {
        "id": "rStw8kP2Xg8-",
        "colab": {
          "base_uri": "https://localhost:8080/",
          "height": 883
        },
        "outputId": "a696ea72-be79-4d9f-a12b-0130c1cdd7f4"
      },
      "source": [
        "print(Results(y_test, prediction))\n",
        "print(PlotConfusionMatrix(y_test, prediction))\n",
        "print(HeatMap(y_test, prediction))"
      ],
      "execution_count": null,
      "outputs": [
        {
          "output_type": "stream",
          "name": "stdout",
          "text": [
            "Overall Accuracy 0.8316614420062696\n",
            "\n",
            "\n",
            "Class #0 Accuracy 0.7857366280888333\n",
            "Class #1 Accuracy 0.8777882500785422\n",
            "\n",
            "\n",
            "              precision    recall  f1-score   support\n",
            "\n",
            "           0       0.87      0.79      0.82      3197\n",
            "           1       0.80      0.88      0.84      3183\n",
            "\n",
            "    accuracy                           0.83      6380\n",
            "   macro avg       0.83      0.83      0.83      6380\n",
            "weighted avg       0.83      0.83      0.83      6380\n",
            "\n",
            "None\n",
            "           Predicted: 0  Predicted: 1\n",
            "Actual: 0          2512           685\n",
            "Actual: 1           389          2794\n",
            "AxesSubplot(0.125,0.125;0.62x0.755)\n"
          ]
        },
        {
          "output_type": "display_data",
          "data": {
            "image/png": "[encoded data removed]",
            "text/plain": [
              "<Figure size 720x576 with 2 Axes>"
            ]
          },
          "metadata": {
            "needs_background": "light"
          }
        }
      ]
    },
    {
      "cell_type": "code",
      "source": [
        ""
      ],
      "metadata": {
        "id": "HexZS2KWo6sm"
      },
      "execution_count": null,
      "outputs": []
    }
  ]
}